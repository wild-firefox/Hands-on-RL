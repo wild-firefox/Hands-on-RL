{
 "cells": [
  {
   "cell_type": "code",
   "execution_count": 50,
   "metadata": {},
   "outputs": [],
   "source": [
    "import torch\n",
    "import torch.nn.functional as F\n",
    "import numpy as np\n",
    "import matplotlib.pyplot as plt"
   ]
  },
  {
   "cell_type": "code",
   "execution_count": 58,
   "metadata": {},
   "outputs": [
    {
     "name": "stdout",
     "output_type": "stream",
     "text": [
      "[0.         2.5178332  1.2        0.11613875 0.        ]\n",
      "[0.         2.9308     1.2950001  0.10985541 1.        ] -0.31107871444359997 False\n",
      "[0.         2.3704834  1.3900001  0.10975792 2.        ] -0.24930352121329738 False\n"
     ]
    }
   ],
   "source": [
    "# 环境搭建 step reset\n",
    "class Env:\n",
    "    '''\n",
    "    state = [p_t, b_t, B_t, v_t,t]\n",
    "    p_t: 可再生能源发电输出\n",
    "    b_t: 不可转移的电力需求\n",
    "    B_t: ESS存储容量\n",
    "    v_t: 买入电力价格\n",
    "    t :  小时数\n",
    "    '''\n",
    "    def __init__(self, ):\n",
    "        #p、b、v分别表示可再生能源发电输出、不可转移的电力需求、买入能源价\n",
    "        self.n_c = 0.95 #充电效率\n",
    "        self.n_d = 0.95 #放电效率\n",
    "        self.b = 1 #奖励惩罚系数\n",
    "        self.c_t = 0.1 #充电能量  #算出\n",
    "        self.d_t = -0.1 #放电能量 #算出\n",
    "        self.Ess_old = 0.001 #ESS折旧率\n",
    "        self.g_t = 0.1  #公网获取电力 #s算出\n",
    "        self.v_t = 0.1  #买入电力价格 #得到\n",
    "        self.u_t = 0.9*self.v_t  # 卖出电力价格 #算出\n",
    "        self.c_max = 3 #最大充电能量\n",
    "        self.d_max = 3 #最大放电能量\n",
    "        self.B_max = 6 #最大ESS容量\n",
    "        self.B_min = 0.1*self.B_max #最小ESS容量\n",
    "        self.B_t = 0.1 #ESS存储容量 #得到\n",
    "        self.t = 0 #小时数\n",
    "        self.data_p_t = np.genfromtxt('./Data/solar_double.csv', delimiter=',') # [1][0]  1-365 0-23\n",
    "        self.data_b_t = np.genfromtxt('./Data/base_load_modified.csv', delimiter=',') # [1][0]  1-122 0-23\n",
    "        self.data_v_t = np.genfromtxt('./Data/price_modified.csv', delimiter=',',encoding='utf-8') # [1][0]  1-122 0-23\n",
    " \n",
    "    def C1(self):\n",
    "        self.u_t = 0.9*self.v_t\n",
    "        self.g_t = self.b_t - self.c_t + self.d_t - self.p_t\n",
    "        return (self.v_t - self.u_t ) / 2 * np.abs(self.g_t) + (self.u_t + self.v_t) / 2 * np.abs(self.g_t) \n",
    "    def C2(self):\n",
    "        return self.Ess_old*(np.abs(self.c_t) + np.abs(self.d_t))\n",
    "\n",
    "    def step(self, action):  # 外部调用这个函数来改变当前位置 # 这个action =f_t #动作是无限的，因为是个函数 f的范围[-d,c]=[-3,3]\n",
    "        p_t, b_t, B_t, v_t, t = self.state\n",
    "        done = False\n",
    "        self.t = t + 1\n",
    "        if self.t > 23:\n",
    "            self.t = 0\n",
    "            done = True\n",
    "        if action >=  0: \n",
    "            self.c_t = action\n",
    "            self.d_t = 0\n",
    "            if self.c_t >= min(self.c_max, (self.B_max-B_t)/self.n_c):\n",
    "                self.c_t = min(self.c_max, (self.B_max-B_t)/self.n_c)\n",
    "        else:\n",
    "            self.c_t = 0\n",
    "            self.d_t = action\n",
    "            if self.d_t <= min(-self.d_max, (self.B_min-B_t)*self.n_d):\n",
    "                self.d_t = min(-self.d_max, (self.B_min-B_t)*self.n_d)\n",
    "        \n",
    "        # 1种动作, \n",
    "        self.p_t = self.data_p_t[1][int(self.t)] #可再生能源发电输出 \n",
    "        self.b_t = self.data_b_t[1][int(self.t)]     #不可转移的电力需求 应该要获取数据\n",
    "        self.B_t = B_t + self.n_c *self.c_t +self.d_t/self.n_d   #ESS存储容量\n",
    "        self.v_t = self.data_v_t[1][int(self.t)]     #买入电力价格 可能要获取数据\n",
    "        self.t = t + 1    #小时数\n",
    "        next_state = np.array([self.p_t, self.b_t, self.B_t, self.v_t,self.t], dtype=np.float32)\n",
    "        self.state = next_state\n",
    "        reward = -self.b *(self.C1() + self.C2())\n",
    "\n",
    "        return next_state, reward, done\n",
    "    \n",
    "    def reset(self): \n",
    "        self.p_t = self.data_p_t[1][0] #可再生能源发电输出 -> 太阳能\n",
    "        self.b_t = self.data_b_t[1][0] #不可转移的电力需求 -> 负载\n",
    "        self.B_t = 0.2 * self.B_max\n",
    "        self.v_t = self.data_v_t[1][0]\n",
    "        self.t = 0                  \n",
    "        self.state = np.array([self.p_t, self.b_t, self.B_t, self.v_t,self.t], dtype=np.float32)\n",
    "\n",
    "        return self.state#np.array(self.state, dtype=np.float32)\n",
    "\n",
    "en = Env()\n",
    "state =en.reset() \n",
    "print(state)\n",
    "next_state, reward,done = en.step(0.1)\n",
    "print(next_state, reward,done)\n",
    "next_state, reward,done = en.step(0.1)\n",
    "print(next_state, reward,done)"
   ]
  },
  {
   "cell_type": "code",
   "execution_count": 52,
   "metadata": {},
   "outputs": [],
   "source": [
    "# 策略网络 和 价值网络\n",
    "\n",
    "# 先用单隐层测试一遍\n",
    "# 策略网络 这里是单隐层\n",
    "class PolicyNetContinuous(torch.nn.Module):\n",
    "    def __init__(self, state_dim, hidden_dim, action_dim):\n",
    "        super(PolicyNetContinuous, self).__init__()\n",
    "        self.fc1 = torch.nn.Linear(state_dim, hidden_dim)\n",
    "        self.fc_mu = torch.nn.Linear(hidden_dim, action_dim) # 均值\n",
    "        self.fc_std = torch.nn.Linear(hidden_dim, action_dim) # 方差\n",
    " \n",
    "    def forward(self, x):\n",
    "        x = F.relu(self.fc1(x)) # 激活函数\n",
    "        mu = 3.0 * torch.tanh(self.fc_mu(x)) #从[-1,1]*3 确保均值范围为[-3,3]\n",
    "        std = F.softplus(self.fc_std(x)) # 保证方差为正数 softplus = log(1+exp(x))\n",
    "        return mu, std # 返回高斯分布的均值和方差\n",
    "# 双隐层    \n",
    "class PolicyNetDiscrete_hems(torch.nn.Module): #hidden_dim_1,hidden_dim_2 300,600\n",
    "    def __init__(self, state_dim, hidden_dim_1,hidden_dim_2 ,action_dim):\n",
    "        super(PolicyNetDiscrete_hems, self).__init__()\n",
    "        self.fc1 = torch.nn.Linear(state_dim, hidden_dim_1)\n",
    "        self.fc2 = torch.nn.Linear(hidden_dim_1, hidden_dim_2)\n",
    "        self.fc_mu = torch.nn.Linear(hidden_dim_2, action_dim) # 均值\n",
    "        self.fc_std = torch.nn.Linear(hidden_dim_2, action_dim) # 方差\n",
    "\n",
    "    def forward(self, x):\n",
    "        x = F.relu(self.fc1(x))\n",
    "        x = F.relu(self.fc2(x))\n",
    "        mu = 3.0 * torch.tanh(self.fc_mu(x)) #从[-1,1]*3 确保均值范围为[-3,3]\n",
    "        std = F.softplus(self.fc_std(x)) # 保证方差为正数 softplus = log(1+exp(x))\n",
    "        return mu, std # 返回高斯分布的均值和方差\n",
    "\n",
    "# 价值网络\n",
    "class ValueNet(torch.nn.Module):\n",
    "    def __init__(self, state_dim, hidden_dim):\n",
    "        super(ValueNet, self).__init__()\n",
    "        self.fc1 = torch.nn.Linear(state_dim, hidden_dim)\n",
    "        self.fc2 = torch.nn.Linear(hidden_dim, 1)\n",
    "\n",
    "    def forward(self, x):\n",
    "        x = F.relu(self.fc1(x))\n",
    "        return self.fc2(x)\n",
    "    \n",
    "# 双隐层    #hidden_dim_1,hidden_dim_2 300,600\n",
    "class ValueNet_hems(torch.nn.Module):\n",
    "    def __init__(self, state_dim, hidden_dim_1,hidden_dim_2):\n",
    "        super(ValueNet, self).__init__()\n",
    "        self.fc1 = torch.nn.Linear(state_dim, hidden_dim_1)\n",
    "        self.fc2 = torch.nn.Linear(hidden_dim_1, hidden_dim_2)\n",
    "        self.fc3 = torch.nn.Linear(hidden_dim_2,1)\n",
    "\n",
    "\n",
    "    def forward(self, x):\n",
    "        x = F.relu(self.fc1(x))\n",
    "        x = F.relu(self.fc2(x))\n",
    "        return self.fc3(x)"
   ]
  },
  {
   "cell_type": "code",
   "execution_count": 53,
   "metadata": {},
   "outputs": [],
   "source": [
    "def compute_advantage(gamma, lmbda, td_delta):\n",
    "    td_delta = td_delta.detach().numpy() # 转换为numpy\n",
    "    advantage_list = []\n",
    "    advantage = 0.0\n",
    "    for delta in td_delta[::-1]: # 从后往前 最新的在最后\n",
    "        advantage = gamma * lmbda * advantage + delta\n",
    "        advantage_list.append(advantage)\n",
    "    advantage_list.reverse() # 从前往后顺序\n",
    "    return torch.tensor(advantage_list, dtype=torch.float)"
   ]
  },
  {
   "cell_type": "code",
   "execution_count": 62,
   "metadata": {},
   "outputs": [
    {
     "name": "stdout",
     "output_type": "stream",
     "text": [
      "0.15929585695266724\n"
     ]
    }
   ],
   "source": [
    "class PPOContinuous:\n",
    "    ''' 处理连续动作的PPO算法 '''\n",
    "    def __init__(self, state_dim, hidden_dim, action_dim, actor_lr, critic_lr,\n",
    "                 lmbda, epochs, eps, gamma, device):\n",
    "        self.actor = PolicyNetContinuous(state_dim, hidden_dim,action_dim).to(device)\n",
    "        self.critic = ValueNet(state_dim, hidden_dim).to(device)\n",
    "        self.actor_optimizer = torch.optim.Adam(self.actor.parameters(),lr=actor_lr)\n",
    "        self.critic_optimizer = torch.optim.Adam(self.critic.parameters(),lr=critic_lr)\n",
    "        self.gamma = gamma # 折扣因子\n",
    "        self.lmbda = lmbda # GAE参数\n",
    "        self.epochs = epochs # 迭代次数\n",
    "        self.eps = eps # PPO算法的参数\n",
    "        self.device = device \n",
    "\n",
    "    def take_action(self, state):\n",
    "        state = torch.tensor([state], dtype=torch.float).to(self.device)\n",
    "        mu, sigma = self.actor(state) # 得到均值和方差\n",
    "        action_dist = torch.distributions.Normal(mu, sigma)  # normal是正态分布\n",
    "        action = action_dist.sample()\n",
    "        return action.item() # 返回一个动作 这里[]是因为返回的是一个列表\n",
    "\n",
    "    def update(self, transition_dict):\n",
    "        states = torch.tensor(transition_dict['states'],\n",
    "                              dtype=torch.float).to(self.device)\n",
    "        actions = torch.tensor(transition_dict['actions'],\n",
    "                               dtype=torch.float).view(-1, 1).to(self.device)\n",
    "        rewards = torch.tensor(transition_dict['rewards'],\n",
    "                               dtype=torch.float).view(-1, 1).to(self.device)\n",
    "        next_states = torch.tensor(transition_dict['next_states'],\n",
    "                                   dtype=torch.float).to(self.device)\n",
    "        dones = torch.tensor(transition_dict['dones'],\n",
    "                             dtype=torch.float).view(-1, 1).to(self.device)\n",
    "        rewards = rewards#(rewards + 8.0) / 8.0  # 和TRPO一样,对奖励进行修改,方便训练 \n",
    "\n",
    "        td_target = rewards + self.gamma * self.critic(next_states) * (1 -dones)\n",
    "        td_delta = td_target - self.critic(states)\n",
    "        advantage = compute_advantage(self.gamma, self.lmbda,td_delta.cpu()).to(self.device)\n",
    "\n",
    "        # 这三步和离散动作的PPO不一样\n",
    "        mu, std = self.actor(states)  \n",
    "        action_dists = torch.distributions.Normal(mu.detach(), std.detach())### # 动作是正态分布 得出动作的概率\n",
    "        old_log_probs = action_dists.log_prob(actions)\n",
    "\n",
    "        for _ in range(self.epochs): #\n",
    "            mu, std = self.actor(states) ##\n",
    "            action_dists = torch.distributions.Normal(mu, std) ##\n",
    "            log_probs = action_dists.log_prob(actions)\n",
    "            ratio = torch.exp(log_probs - old_log_probs)\n",
    "            surr1 = ratio * advantage\n",
    "            surr2 = torch.clamp(ratio, 1 - self.eps, 1 + self.eps) * advantage\n",
    "            actor_loss = torch.mean(-torch.min(surr1, surr2))  \n",
    "            critic_loss = torch.mean(F.mse_loss(self.critic(states), td_target.detach()))\n",
    "            self.actor_optimizer.zero_grad()\n",
    "            self.critic_optimizer.zero_grad()\n",
    "            actor_loss.backward()\n",
    "            critic_loss.backward()\n",
    "            self.actor_optimizer.step()\n",
    "            self.critic_optimizer.step()\n",
    "p = PPOContinuous(5, 64, 1, 0.0003, 0.0003, 0.95, 10, 0.2, 0.99, 'cpu')\n",
    "state = en.reset()\n",
    "print(p.take_action(state))"
   ]
  },
  {
   "cell_type": "code",
   "execution_count": 55,
   "metadata": {},
   "outputs": [],
   "source": [
    "from tqdm import tqdm\n",
    "# 训练的时候拿60天的数据，一次训练一天，测试的时候拿30天的数据，一次测试30天\n",
    "# 这里是训练\n",
    "def train_on_policy_agent_hems(env, agent, num_episodes):\n",
    "    return_list = []\n",
    "    for i in range(10):\n",
    "        with tqdm(total=int(num_episodes/10), desc='Iteration %d' % i) as pbar:\n",
    "            for i_episode in range(int(num_episodes/10)):\n",
    "                episode_return = 0\n",
    "                transition_dict = {'states': [], 'actions': [], 'next_states': [], 'rewards': [], 'dones': []}\n",
    "                state = env.reset() \n",
    "                #print('state:',state)\n",
    "                done = False\n",
    "                while not done:\n",
    "                    action = agent.take_action(state) \n",
    "                    next_state, reward,done = env.step(action) \n",
    "                    transition_dict['states'].append(state)\n",
    "                    transition_dict['actions'].append(action)\n",
    "                    transition_dict['next_states'].append(next_state)\n",
    "                    transition_dict['rewards'].append(reward)\n",
    "                    transition_dict['dones'].append(done)\n",
    "                    state = next_state\n",
    "                    episode_return += reward\n",
    "                return_list.append(episode_return)\n",
    "                agent.update(transition_dict)\n",
    "                if (i_episode+1) % 10 == 0:\n",
    "                    pbar.set_postfix({'episode': '%d' % (num_episodes/10 * i + i_episode+1), 'return': '%.3f' % np.mean(return_list[-10:])})\n",
    "                pbar.update(1)\n",
    "    return return_list"
   ]
  },
  {
   "cell_type": "code",
   "execution_count": 65,
   "metadata": {},
   "outputs": [
    {
     "name": "stderr",
     "output_type": "stream",
     "text": [
      "Iteration 0: 100%|██████████| 300/300 [00:21<00:00, 14.27it/s, episode=300, return=-5.646]\n",
      "Iteration 1: 100%|██████████| 300/300 [00:19<00:00, 15.57it/s, episode=600, return=-5.488]\n",
      "Iteration 2: 100%|██████████| 300/300 [00:19<00:00, 15.33it/s, episode=900, return=-5.672]\n",
      "Iteration 3: 100%|██████████| 300/300 [00:19<00:00, 15.01it/s, episode=1200, return=-5.567]\n",
      "Iteration 4: 100%|██████████| 300/300 [00:19<00:00, 15.04it/s, episode=1500, return=-5.567]\n",
      "Iteration 5: 100%|██████████| 300/300 [00:20<00:00, 14.83it/s, episode=1800, return=-5.430]\n",
      "Iteration 6: 100%|██████████| 300/300 [00:19<00:00, 15.11it/s, episode=2100, return=-5.677]\n",
      "Iteration 7: 100%|██████████| 300/300 [00:21<00:00, 13.90it/s, episode=2400, return=-5.661]\n",
      "Iteration 8: 100%|██████████| 300/300 [00:19<00:00, 15.25it/s, episode=2700, return=-6.069]\n",
      "Iteration 9: 100%|██████████| 300/300 [00:19<00:00, 15.11it/s, episode=3000, return=-5.158]\n"
     ]
    }
   ],
   "source": [
    "actor_lr = 1e-4# #论文1e-4\n",
    "critic_lr = 1e-3# #论文1e-3\n",
    "num_episodes = 3000  #论文里3000\n",
    "hidden_dim = 128   #论文里 300*600\n",
    "gamma = 0.995 #折扣因子\n",
    "lmbda = 0.95 #GAE参数 #自设\n",
    "epochs = 10 # 每轮训练的次数 #自设\n",
    "eps = 0.2  #clip截断 #自设 eps越大，更新幅度越大\n",
    "device = torch.device(\"cuda\") if torch.cuda.is_available() else torch.device(\"cpu\")\n",
    "\n",
    "# 环境\n",
    "env = Env()\n",
    "state_dim = 5 # 状态维度\n",
    "action_dim  = 1 # 动作维度\n",
    "torch.manual_seed(0)\n",
    "np.random.seed(0)\n",
    "\n",
    "#state_dim = env.observation_space.shape[0] # 状态维度\n",
    "#action_dim = env.action_space.n  # 动作维度\n",
    "\n",
    "agent = PPOContinuous(state_dim, hidden_dim, action_dim, actor_lr, critic_lr, lmbda,epochs, eps, gamma, device)\n",
    "\n",
    "return_list = train_on_policy_agent_hems(env, agent, num_episodes)"
   ]
  },
  {
   "cell_type": "code",
   "execution_count": 66,
   "metadata": {},
   "outputs": [
    {
     "data": {
      "image/png": "[encoded data removed]",
      "text/plain": [
       "<Figure size 640x480 with 1 Axes>"
      ]
     },
     "metadata": {},
     "output_type": "display_data"
    },
    {
     "data": {
      "image/png": "[encoded data removed]",
      "text/plain": [
       "<Figure size 640x480 with 1 Axes>"
      ]
     },
     "metadata": {},
     "output_type": "display_data"
    }
   ],
   "source": [
    "env_name = 'hems'\n",
    "episodes_list = list(range(len(return_list)))\n",
    "plt.plot(episodes_list, return_list)\n",
    "plt.xlabel('Episodes')\n",
    "plt.ylabel('Returns')\n",
    "plt.title('PPO on {}'.format(env_name))\n",
    "plt.show()\n",
    "\n",
    "#  moving_average函数用于计算滑动平均值\n",
    "def moving_average(a, window_size):\n",
    "    cumulative_sum = np.cumsum(np.insert(a, 0, 0)) #\n",
    "    middle = (cumulative_sum[window_size:] - cumulative_sum[:-window_size]) / window_size\n",
    "    r = np.arange(1, window_size-1, 2)\n",
    "    begin = np.cumsum(a[:window_size-1])[::2] / r\n",
    "    end = (np.cumsum(a[:-window_size:-1])[::2] / r)[::-1]\n",
    "    return np.concatenate((begin, middle, end))\n",
    "\n",
    "mv_return = moving_average(return_list, 21)\n",
    "plt.plot(episodes_list, mv_return)\n",
    "plt.xlabel('Episodes')\n",
    "plt.ylabel('Returns')\n",
    "plt.title('PPO on {}'.format(env_name))\n",
    "plt.show()"
   ]
  },
  {
   "cell_type": "code",
   "execution_count": 20,
   "metadata": {},
   "outputs": [
    {
     "name": "stdout",
     "output_type": "stream",
     "text": [
      "state_dim: 4\n",
      "action_dim: 2\n",
      "<class 'int'>\n",
      "[ 0.02622788  0.00636261  0.00409673 -0.00818955]\n",
      "Discrete(2)\n"
     ]
    },
    {
     "name": "stderr",
     "output_type": "stream",
     "text": [
      "d:\\softwares\\anaconda3\\envs\\myrl\\Lib\\site-packages\\gym\\envs\\registration.py:555: UserWarning: \u001b[33mWARN: The environment CartPole-v0 is out of date. You should consider upgrading to version `v1`.\u001b[0m\n",
      "  logger.warn(\n"
     ]
    }
   ],
   "source": [
    "### 测试###\n",
    "import gym\n",
    "env_name = 'CartPole-v0'\n",
    "env = gym.make(env_name)\n",
    "#env.seed(0)\n",
    "torch.manual_seed(0)\n",
    "state_dim = env.observation_space.shape[0]\n",
    "action_dim = env.action_space.n\n",
    "print('state_dim:', state_dim)\n",
    "print('action_dim:', action_dim)\n",
    "print(type(state_dim))\n",
    "state = env.reset()\n",
    "print(state[0])\n",
    "#打印动作的最大值\n",
    "\n",
    "print(env.action_space)"
   ]
  },
  {
   "cell_type": "code",
   "execution_count": 23,
   "metadata": {},
   "outputs": [
    {
     "name": "stdout",
     "output_type": "stream",
     "text": [
      "Box(-2.0, 2.0, (1,), float32)\n",
      "[2.]\n",
      "[-2.]\n"
     ]
    }
   ],
   "source": [
    "import gym\n",
    "env_name = 'Pendulum-v1'\n",
    "env = gym.make(env_name)\n",
    "#打印动作的最大值\n",
    "print(env.action_space)\n",
    "print(env.action_space.high)\n",
    "print(env.action_space.low)"
   ]
  }
 ],
 "metadata": {
  "kernelspec": {
   "display_name": "myrl",
   "language": "python",
   "name": "python3"
  },
  "language_info": {
   "codemirror_mode": {
    "name": "ipython",
    "version": 3
   },
   "file_extension": ".py",
   "mimetype": "text/x-python",
   "name": "python",
   "nbconvert_exporter": "python",
   "pygments_lexer": "ipython3",
   "version": "3.11.8"
  }
 },
 "nbformat": 4,
 "nbformat_minor": 2
}
